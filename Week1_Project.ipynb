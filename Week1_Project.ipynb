{
 "cells": [
  {
   "cell_type": "markdown",
   "id": "77873a84",
   "metadata": {},
   "source": [
    "# Environmental Monitoring & Pollution Control – Week 1\n",
    "This notebook performs basic data analysis and visualization on a sample dataset."
   ]
  },
  {
   "cell_type": "code",
   "execution_count": null,
   "id": "e4e4f11e",
   "metadata": {},
   "outputs": [],
   "source": [
    "\n",
    "import pandas as pd\n",
    "import matplotlib.pyplot as plt\n",
    "\n",
    "# Display plots inline\n",
    "%matplotlib inline\n"
   ]
  },
  {
   "cell_type": "code",
   "execution_count": null,
   "id": "262cc5ec",
   "metadata": {},
   "outputs": [],
   "source": [
    "\n",
    "# Load the sample dataset\n",
    "df = pd.read_csv(\"sample_environment_dataset.csv\")\n",
    "\n",
    "# Preview dataset\n",
    "print(\"Dataset shape:\", df.shape)\n",
    "df.head()\n"
   ]
  },
  {
   "cell_type": "code",
   "execution_count": null,
   "id": "18964a51",
   "metadata": {},
   "outputs": [],
   "source": [
    "\n",
    "# Basic data cleaning\n",
    "df = df.dropna()\n",
    "df = df.drop_duplicates()\n",
    "\n",
    "print(\"Cleaned Dataset shape:\", df.shape)\n",
    "df.describe()\n"
   ]
  },
  {
   "cell_type": "code",
   "execution_count": null,
   "id": "1f2a6933",
   "metadata": {},
   "outputs": [],
   "source": [
    "\n",
    "# Histogram of Air Quality Index\n",
    "plt.figure(figsize=(8,5))\n",
    "df[\"AirQualityIndex\"].plot(kind=\"hist\", bins=20, alpha=0.7, color=\"skyblue\", edgecolor=\"black\")\n",
    "plt.title(\"Distribution of Air Quality Index (AQI)\")\n",
    "plt.xlabel(\"AQI\")\n",
    "plt.ylabel(\"Frequency\")\n",
    "plt.show()\n"
   ]
  },
  {
   "cell_type": "code",
   "execution_count": null,
   "id": "14cfe25e",
   "metadata": {},
   "outputs": [],
   "source": [
    "\n",
    "# Average AQI by Location\n",
    "avg_pollution = df.groupby(\"Location\")[\"AirQualityIndex\"].mean().sort_values()\n",
    "\n",
    "plt.figure(figsize=(8,6))\n",
    "avg_pollution.plot(kind=\"barh\", color=\"salmon\", edgecolor=\"black\")\n",
    "plt.title(\"Average AQI by Location\")\n",
    "plt.xlabel(\"Air Quality Index\")\n",
    "plt.ylabel(\"Location\")\n",
    "plt.show()\n"
   ]
  }
 ],
 "metadata": {},
 "nbformat": 4,
 "nbformat_minor": 5
}
